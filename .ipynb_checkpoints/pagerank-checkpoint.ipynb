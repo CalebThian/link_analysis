{
 "cells": [
  {
   "cell_type": "code",
   "execution_count": 98,
   "id": "c5f24a6e",
   "metadata": {},
   "outputs": [],
   "source": [
    "import data\n",
    "import numpy as np\n",
    "import networkx as nx"
   ]
  },
  {
   "cell_type": "code",
   "execution_count": 99,
   "id": "e07b4b5b",
   "metadata": {},
   "outputs": [],
   "source": [
    "d=0.1\n",
    "path = './data/graph_1.txt'"
   ]
  },
  {
   "cell_type": "code",
   "execution_count": 100,
   "id": "f7ce93c9",
   "metadata": {},
   "outputs": [],
   "source": [
    "n,e = data.get_n_e(path)\n",
    "adj_mat = data.get_amat(path)"
   ]
  },
  {
   "cell_type": "code",
   "execution_count": null,
   "id": "07b38980",
   "metadata": {},
   "outputs": [],
   "source": [
    "result = np.where(arr == 15)"
   ]
  },
  {
   "cell_type": "code",
   "execution_count": 112,
   "id": "30b249d7",
   "metadata": {},
   "outputs": [],
   "source": [
    "def PageRank(adj_mat,n,e):\n",
    "    last_pr = np.ones(n)/n\n",
    "    pr = last_pr.copy()\n",
    "    outdegree = np.sum(adj_mat,axis = 1)\n",
    "    eps = 0.000001\n",
    "    while True:\n",
    "        for i in range(n):\n",
    "            par = np.where(adj_mat.transpose()[i]==1)\n",
    "            print(i,end=\" \")\n",
    "            print(par)\n",
    "            pr_in = 0\n",
    "            pr[i] = d/n+(1-d)*\n",
    "        \n",
    "        '''\n",
    "        for i in range(n):\n",
    "            dampling = adj_mat.transpose()[i]*last_pr.copy()\n",
    "            for j in range(n):\n",
    "                if dampling[j] != 0:\n",
    "                    dampling[j] = dampling[j]/outdegree[j]\n",
    "            pr[i] = d/n + (1-d)*np.sum(dampling)\n",
    "        '''\n",
    "        if np.linalg.norm(pr-last_pr) < eps:\n",
    "            break\n",
    "        else:\n",
    "            last_pr = pr.copy()\n",
    "    print(pr)\n",
    "    return pr\n",
    "        "
   ]
  },
  {
   "cell_type": "code",
   "execution_count": 113,
   "id": "87622d33",
   "metadata": {},
   "outputs": [
    {
     "name": "stdout",
     "output_type": "stream",
     "text": [
      "2 (array([1], dtype=int64),)\n",
      "[0.16666667 0.16666667 0.16666667 0.16666667 0.16666667 0.16666667]\n"
     ]
    },
    {
     "data": {
      "text/plain": [
       "array([0.16666667, 0.16666667, 0.16666667, 0.16666667, 0.16666667,\n",
       "       0.16666667])"
      ]
     },
     "execution_count": 113,
     "metadata": {},
     "output_type": "execute_result"
    }
   ],
   "source": [
    "PageRank(adj_mat,n,e)"
   ]
  },
  {
   "cell_type": "code",
   "execution_count": 107,
   "id": "d369c861",
   "metadata": {},
   "outputs": [
    {
     "data": {
      "text/plain": [
       "{1: 0.05608641484464888,\n",
       " 2: 0.10656444878517904,\n",
       " 3: 0.15199451364799185,\n",
       " 4: 0.19288041142254356,\n",
       " 5: 0.22967770467761886,\n",
       " 6: 0.2627965066220177}"
      ]
     },
     "execution_count": 107,
     "metadata": {},
     "output_type": "execute_result"
    },
    {
     "data": {
      "image/png": "[encoded data removed]",
      "text/plain": [
       "<Figure size 432x288 with 1 Axes>"
      ]
     },
     "metadata": {},
     "output_type": "display_data"
    }
   ],
   "source": [
    "graph = data.get_graph(path)\n",
    "nx.pagerank(graph,alpha = 0.9)"
   ]
  },
  {
   "cell_type": "code",
   "execution_count": 20,
   "id": "b8c52eec",
   "metadata": {},
   "outputs": [
    {
     "data": {
      "text/plain": [
       "array([[1, 2],\n",
       "       [3, 4]])"
      ]
     },
     "execution_count": 20,
     "metadata": {},
     "output_type": "execute_result"
    }
   ],
   "source": [
    "a = [[1,2],[3,4]]\n",
    "np.array(a)"
   ]
  },
  {
   "cell_type": "code",
   "execution_count": 23,
   "id": "25980b12",
   "metadata": {},
   "outputs": [
    {
     "data": {
      "text/plain": [
       "10"
      ]
     },
     "execution_count": 23,
     "metadata": {},
     "output_type": "execute_result"
    }
   ],
   "source": [
    "np.sum(np.array(a))"
   ]
  },
  {
   "cell_type": "code",
   "execution_count": null,
   "id": "71b8c220",
   "metadata": {},
   "outputs": [],
   "source": []
  }
 ],
 "metadata": {
  "kernelspec": {
   "display_name": "Python 3 (ipykernel)",
   "language": "python",
   "name": "python3"
  },
  "language_info": {
   "codemirror_mode": {
    "name": "ipython",
    "version": 3
   },
   "file_extension": ".py",
   "mimetype": "text/x-python",
   "name": "python",
   "nbconvert_exporter": "python",
   "pygments_lexer": "ipython3",
   "version": "3.8.5"
  }
 },
 "nbformat": 4,
 "nbformat_minor": 5
}
