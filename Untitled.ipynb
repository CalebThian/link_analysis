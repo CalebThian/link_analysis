{
 "cells": [
  {
   "cell_type": "code",
   "execution_count": 4,
   "id": "c5f24a6e",
   "metadata": {},
   "outputs": [],
   "source": [
    "import data\n",
    "import numpy as np"
   ]
  },
  {
   "cell_type": "code",
   "execution_count": 5,
   "id": "e07b4b5b",
   "metadata": {},
   "outputs": [],
   "source": [
    "d=0.15\n",
    "path = './data/graph_1.txt'"
   ]
  },
  {
   "cell_type": "code",
   "execution_count": 6,
   "id": "f7ce93c9",
   "metadata": {},
   "outputs": [],
   "source": [
    "n,e = data.get_n_e(path)\n",
    "adj_mat = data.get_amat(path)"
   ]
  },
  {
   "cell_type": "code",
   "execution_count": 34,
   "id": "30b249d7",
   "metadata": {},
   "outputs": [],
   "source": [
    "def PageRank(adj_mat,n,e):\n",
    "    last_pr = np.ones(n)/n\n",
    "    pr = last_pr.copy()\n",
    "    outdegree = np.sum(adj_mat,axis = 1)\n",
    "    while True:\n",
    "        for i in range(n):\n",
    "            dampling = adj_mat[i]*last_pr.copy()\n",
    "            for j in range(n):\n",
    "                if outdegree[i] != 0:\n",
    "                    dampling[i] = dampling[i]/outdegree[i]\n",
    "            #pr[i] = d/n + (1-d)*np.sum(adj_mat[i]*last_pr.copy()/np.sum(adj_mat,axis=1))\n",
    "        \n",
    "        print(pr)\n",
    "        break\n",
    "        "
   ]
  },
  {
   "cell_type": "code",
   "execution_count": 35,
   "id": "87622d33",
   "metadata": {},
   "outputs": [
    {
     "name": "stdout",
     "output_type": "stream",
     "text": [
      "nan\n",
      "nan\n",
      "nan\n",
      "nan\n",
      "inf\n",
      "nan\n",
      "[0.16666667 0.16666667 0.16666667 0.16666667 0.16666667 0.16666667]\n"
     ]
    },
    {
     "name": "stderr",
     "output_type": "stream",
     "text": [
      "C:\\Users\\caleb\\AppData\\Local\\Temp/ipykernel_1040/461339605.py:6: RuntimeWarning: invalid value encountered in divide\n",
      "  print(np.sum(adj_mat[i]*last_pr.copy()/np.sum(adj_mat,axis=1)))\n",
      "C:\\Users\\caleb\\AppData\\Local\\Temp/ipykernel_1040/461339605.py:6: RuntimeWarning: divide by zero encountered in divide\n",
      "  print(np.sum(adj_mat[i]*last_pr.copy()/np.sum(adj_mat,axis=1)))\n"
     ]
    }
   ],
   "source": [
    "PageRank(adj_mat,n,e)"
   ]
  },
  {
   "cell_type": "code",
   "execution_count": 20,
   "id": "b8c52eec",
   "metadata": {},
   "outputs": [
    {
     "data": {
      "text/plain": [
       "array([[1, 2],\n",
       "       [3, 4]])"
      ]
     },
     "execution_count": 20,
     "metadata": {},
     "output_type": "execute_result"
    }
   ],
   "source": [
    "a = [[1,2],[3,4]]\n",
    "np.array(a)"
   ]
  },
  {
   "cell_type": "code",
   "execution_count": 23,
   "id": "25980b12",
   "metadata": {},
   "outputs": [
    {
     "data": {
      "text/plain": [
       "10"
      ]
     },
     "execution_count": 23,
     "metadata": {},
     "output_type": "execute_result"
    }
   ],
   "source": [
    "np.sum(np.array(a))"
   ]
  },
  {
   "cell_type": "code",
   "execution_count": null,
   "id": "71b8c220",
   "metadata": {},
   "outputs": [],
   "source": []
  }
 ],
 "metadata": {
  "kernelspec": {
   "display_name": "Python 3 (ipykernel)",
   "language": "python",
   "name": "python3"
  },
  "language_info": {
   "codemirror_mode": {
    "name": "ipython",
    "version": 3
   },
   "file_extension": ".py",
   "mimetype": "text/x-python",
   "name": "python",
   "nbconvert_exporter": "python",
   "pygments_lexer": "ipython3",
   "version": "3.8.5"
  }
 },
 "nbformat": 4,
 "nbformat_minor": 5
}
